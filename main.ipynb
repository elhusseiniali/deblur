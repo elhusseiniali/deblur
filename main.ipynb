{
 "cells": [
  {
   "cell_type": "code",
   "execution_count": null,
   "metadata": {},
   "outputs": [],
   "source": [
    "from pathlib import Path"
   ]
  },
  {
   "cell_type": "code",
   "execution_count": null,
   "metadata": {},
   "outputs": [],
   "source": [
    "from dataset import get_loader\n",
    "from config import Config"
   ]
  },
  {
   "cell_type": "code",
   "execution_count": null,
   "metadata": {},
   "outputs": [],
   "source": [
    "from vit import get_vit, SUPPORTED_VIT\n",
    "\n",
    "from trainer import Trainer\n",
    "\n",
    "from loss import get_loss, SUPPORTED_LOSS\n",
    "from optimizer import get_optimizer, SUPPORTED_OPTIMIZERS"
   ]
  },
  {
   "cell_type": "code",
   "execution_count": null,
   "metadata": {},
   "outputs": [],
   "source": [
    "celeb_path = Path('./data/CelebA')\n",
    "train_path = celeb_path / 'train'\n",
    "test_path = celeb_path / 'test'\n",
    "val_path = celeb_path / 'validation'"
   ]
  },
  {
   "cell_type": "code",
   "execution_count": null,
   "metadata": {},
   "outputs": [],
   "source": [
    "batch_size = 2\n",
    "image_limit = 1\n",
    "\n",
    "learning_rate = 1e-4\n",
    "num_epochs = 1000\n",
    "\n",
    "debug = True\n",
    "debug_step = 250\n",
    "debug_image_count = 2\n",
    "\n",
    "AUGMENT_DATA = False"
   ]
  },
  {
   "cell_type": "code",
   "execution_count": null,
   "metadata": {},
   "outputs": [],
   "source": [
    "print(f'Supported vision transformers: {list(SUPPORTED_VIT.keys())}')\n",
    "print(f'Supported losses: {list(SUPPORTED_LOSS.keys())}')\n",
    "print(f'Supported optimizers: {list(SUPPORTED_OPTIMIZERS.keys())}')"
   ]
  },
  {
   "cell_type": "code",
   "execution_count": null,
   "metadata": {},
   "outputs": [],
   "source": [
    "model_id = 'vit_l32'\n",
    "loss_id = 'mse'\n",
    "optim_id = 'adam'"
   ]
  },
  {
   "cell_type": "code",
   "execution_count": null,
   "metadata": {},
   "outputs": [],
   "source": [
    "config = Config(\n",
    "    model_id=model_id,\n",
    "    img_size=224,\n",
    "    train_path=train_path,\n",
    "    test_path=test_path,\n",
    "    val_path=val_path,\n",
    "    mean=[0.485, 0.456, 0.406],\n",
    "    std=[0.229, 0.224, 0.225]\n",
    ")\n",
    "\n",
    "train_loader = get_loader(\n",
    "    data_path=train_path,\n",
    "    config=config,\n",
    "    batch_size=batch_size,\n",
    "    image_limit=image_limit,\n",
    "    augment=AUGMENT_DATA\n",
    ")\n",
    "val_loader = get_loader(\n",
    "    data_path=val_path,\n",
    "    config=config,\n",
    "    batch_size=batch_size,\n",
    "    image_limit=image_limit,\n",
    "    augment=AUGMENT_DATA\n",
    ")\n",
    "\n",
    "model = get_vit(config=config)\n",
    "for criterion_id in [loss_id]:\n",
    "    criterion = get_loss(criterion_id)\n",
    "    for optimizer_id in [optim_id]:\n",
    "        optimizer = get_optimizer(\n",
    "            optimizer_id=optimizer_id,\n",
    "            model=model,\n",
    "            learning_rate=learning_rate\n",
    "        )\n",
    "        print(f'Using {optimizer_id} with {criterion_id} on {model_id}')\n",
    "        trainer = Trainer(\n",
    "            model_id=model_id,\n",
    "            model=model,\n",
    "            optimizer=optimizer,\n",
    "            criterion=criterion,\n",
    "            config=config,\n",
    "            debug=debug,\n",
    "            debug_step=debug_step,\n",
    "            debug_image_count=debug_image_count\n",
    "        )\n",
    "        trainer.train(\n",
    "            train_loader=train_loader,\n",
    "            val_loader=val_loader,\n",
    "            epochs=num_epochs\n",
    "        )"
   ]
  },
  {
   "cell_type": "code",
   "execution_count": null,
   "metadata": {},
   "outputs": [],
   "source": []
  },
  {
   "cell_type": "code",
   "execution_count": null,
   "metadata": {},
   "outputs": [],
   "source": []
  }
 ],
 "metadata": {
  "kernelspec": {
   "display_name": "deblur",
   "language": "python",
   "name": "python3"
  },
  "language_info": {
   "codemirror_mode": {
    "name": "ipython",
    "version": 3
   },
   "file_extension": ".py",
   "mimetype": "text/x-python",
   "name": "python",
   "nbconvert_exporter": "python",
   "pygments_lexer": "ipython3",
   "version": "3.11.0"
  }
 },
 "nbformat": 4,
 "nbformat_minor": 2
}
